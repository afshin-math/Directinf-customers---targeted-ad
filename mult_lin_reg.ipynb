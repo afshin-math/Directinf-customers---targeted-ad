# Multiple linear regression (Python)
# Data analyst: Afshin 
# Data source: Udemy

# Libraries
import numpy as np
import pandas as pd
import matplotlib.pyplot as plt

# Importing the data
df = pd.read_csv("50_Startups.csv")
X = df.iloc[:,0:-1].values
y = df.iloc[:,-1].values
print(X)
print(y)

# Encoding the "State" column in X
from sklearn.compose import ColumnTransformer
from sklearn.preprocessing import OneHotEncoder
ct = ColumnTransformer(transformers=[("encoder", OneHotEncoder(), [-1])], remainder = "passthrough")
X = ct.fit_transform(X)
print(X)

### Splitting the dataset into training and test set (r = .8)

from sklearn.model_selection import train_test_split
X_train, X_test, y_train, y_test = train_test_split(X, y, test_size = 0.2)

### Training the linear regression model

from sklearn.linear_model import LinearRegression
LR = LinearRegression()
LR.fit(X_train, y_train)

## Evaluating the goodness of fit

y_pred = LR.predict(X_test)
np.set_printoptions(precision = 2)
res = y_test - y_pred
np.concatenate(y_pred.reshape(len))

